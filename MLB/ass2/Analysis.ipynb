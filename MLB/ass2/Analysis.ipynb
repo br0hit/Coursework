{
 "cells": [
  {
   "cell_type": "markdown",
   "metadata": {},
   "source": [
    "### Assignment 2 - ES60011\n",
    "Name: Bannuru Rohit Kumar Reddy\\\n",
    "Roll No: 21CS30011"
   ]
  },
  {
   "cell_type": "markdown",
   "metadata": {},
   "source": [
    "Importing necessary libraries"
   ]
  },
  {
   "cell_type": "code",
   "execution_count": 16,
   "metadata": {},
   "outputs": [],
   "source": [
    "import numpy as np\n",
    "import pandas as pd\n",
    "import matplotlib.pyplot as plt\n",
    "from sklearn.metrics import mean_squared_error\n",
    "from sklearn.model_selection import train_test_split\n",
    "\n",
    "# import accuracy_score\n",
    "from sklearn.metrics import accuracy_score\n",
    "\n",
    "from sklearn.metrics import accuracy_score, confusion_matrix, classification_report, roc_auc_score\n",
    "\n",
    "# Import the polynomial features\n",
    "from sklearn.preprocessing import PolynomialFeatures\n",
    "\n",
    "from sklearn.metrics import classification_report, roc_auc_score\n",
    "from imblearn.under_sampling import RandomUnderSampler\n",
    "\n",
    "# Import standard scaler\n",
    "from sklearn.preprocessing import StandardScaler"
   ]
  },
  {
   "cell_type": "markdown",
   "metadata": {},
   "source": [
    "### EDA"
   ]
  },
  {
   "cell_type": "markdown",
   "metadata": {},
   "source": [
    "Loading data and printing basic information"
   ]
  },
  {
   "cell_type": "code",
   "execution_count": 17,
   "metadata": {},
   "outputs": [
    {
     "name": "stdout",
     "output_type": "stream",
     "text": [
      "   male  age  education  currentSmoker  cigsPerDay  BPMeds  prevalentStroke  \\\n",
      "0     1   39        4.0              0         0.0     0.0                0   \n",
      "1     0   46        2.0              0         0.0     0.0                0   \n",
      "2     1   48        1.0              1        20.0     0.0                0   \n",
      "3     0   61        3.0              1        30.0     0.0                0   \n",
      "4     0   46        3.0              1        23.0     0.0                0   \n",
      "\n",
      "   prevalentHyp  diabetes  totChol  sysBP  diaBP    BMI  heartRate  glucose  \\\n",
      "0             0         0    195.0  106.0   70.0  26.97       80.0     77.0   \n",
      "1             0         0    250.0  121.0   81.0  28.73       95.0     76.0   \n",
      "2             0         0    245.0  127.5   80.0  25.34       75.0     70.0   \n",
      "3             1         0    225.0  150.0   95.0  28.58       65.0    103.0   \n",
      "4             0         0    285.0  130.0   84.0  23.10       85.0     85.0   \n",
      "\n",
      "   TenYearCHD  \n",
      "0           0  \n",
      "1           0  \n",
      "2           0  \n",
      "3           1  \n",
      "4           0  \n",
      "<class 'pandas.core.frame.DataFrame'>\n",
      "RangeIndex: 4240 entries, 0 to 4239\n",
      "Data columns (total 16 columns):\n",
      " #   Column           Non-Null Count  Dtype  \n",
      "---  ------           --------------  -----  \n",
      " 0   male             4240 non-null   int64  \n",
      " 1   age              4240 non-null   int64  \n",
      " 2   education        4135 non-null   float64\n",
      " 3   currentSmoker    4240 non-null   int64  \n",
      " 4   cigsPerDay       4211 non-null   float64\n",
      " 5   BPMeds           4187 non-null   float64\n",
      " 6   prevalentStroke  4240 non-null   int64  \n",
      " 7   prevalentHyp     4240 non-null   int64  \n",
      " 8   diabetes         4240 non-null   int64  \n",
      " 9   totChol          4190 non-null   float64\n",
      " 10  sysBP            4240 non-null   float64\n",
      " 11  diaBP            4240 non-null   float64\n",
      " 12  BMI              4221 non-null   float64\n",
      " 13  heartRate        4239 non-null   float64\n",
      " 14  glucose          3852 non-null   float64\n",
      " 15  TenYearCHD       4240 non-null   int64  \n",
      "dtypes: float64(9), int64(7)\n",
      "memory usage: 530.1 KB\n",
      "None\n",
      "0    3596\n",
      "1     644\n",
      "Name: TenYearCHD, dtype: int64\n"
     ]
    }
   ],
   "source": [
    "data = pd.read_csv('framingham.csv')\n",
    "print(data.head())\n",
    "print(data.info())\n",
    "\n",
    "print(data['TenYearCHD'].value_counts())"
   ]
  },
  {
   "cell_type": "markdown",
   "metadata": {},
   "source": [
    "Notice that there is uneven distribution of the people who have the disease and people who don't. \\\n",
    "\\\n",
    "Since glucose has a lot of missing values, analyzing if we drop the na values, how many of 1's will get drop ( We need to make sure of this as there a few 1's, to make sure we are not dropping a lot of them)"
   ]
  },
  {
   "cell_type": "code",
   "execution_count": 18,
   "metadata": {},
   "outputs": [
    {
     "name": "stdout",
     "output_type": "stream",
     "text": [
      "0    338\n",
      "1     50\n",
      "Name: TenYearCHD, dtype: int64\n"
     ]
    }
   ],
   "source": [
    "# In the missing glucose values, find how many of them have heart disease\n",
    "print(data[data['glucose'].isnull()]['TenYearCHD'].value_counts())"
   ]
  },
  {
   "cell_type": "markdown",
   "metadata": {},
   "source": [
    "Plotting the frequency distribution of each feature stored in the plot folder"
   ]
  },
  {
   "cell_type": "code",
   "execution_count": 19,
   "metadata": {},
   "outputs": [],
   "source": [
    "# Plot the frequency distribution of each variable seperately and save the plots in the plots folder\n",
    "for i in data.columns:\n",
    "    plt.hist(data[i].dropna())\n",
    "    plt.title(i)\n",
    "    plt.savefig('plots/' + i + '.png')\n",
    "    plt.close()"
   ]
  },
  {
   "cell_type": "markdown",
   "metadata": {},
   "source": [
    "Since the diease is highly correlated with 'age' we will try to analyze the number number of people who have the disease for each age group"
   ]
  },
  {
   "cell_type": "code",
   "execution_count": 20,
   "metadata": {},
   "outputs": [
    {
     "data": {
      "image/png": "[encoded data removed]",
      "text/plain": [
       "<Figure size 640x480 with 1 Axes>"
      ]
     },
     "metadata": {},
     "output_type": "display_data"
    }
   ],
   "source": [
    "# Find the number of people with heart disease for each age, print the total number of people followed by the number of people with heart disease side by side\n",
    "# Create two Series for comparison\n",
    "age_counts = data['age'].value_counts().sort_index(ascending=False)\n",
    "chd_age_counts = data[data['TenYearCHD'] == 1]['age'].value_counts().sort_index(ascending=False)\n",
    "\n",
    "# Concatenate the two Series side by side\n",
    "side_by_side = pd.concat([age_counts, chd_age_counts], axis=1, keys=['Total Age Count', 'CHD Age Count'])\n",
    "\n",
    "# Plot the side by side comparison\n",
    "side_by_side.plot(kind='bar')\n",
    "plt.title('Total Age Count vs CHD Age Count')\n",
    "plt.xlabel('Age')\n",
    "plt.ylabel('Count')\n",
    "\n",
    "# Display the plot\n",
    "plt.show()\n",
    "\n"
   ]
  },
  {
   "cell_type": "code",
   "execution_count": 21,
   "metadata": {},
   "outputs": [
    {
     "name": "stdout",
     "output_type": "stream",
     "text": [
      "0    105\n",
      "1     62\n",
      "Name: TenYearCHD, dtype: int64\n"
     ]
    }
   ],
   "source": [
    "# Above age 64 find the number of people with heart disease\n",
    "print(data[data['age'] > 64]['TenYearCHD'].value_counts())"
   ]
  },
  {
   "cell_type": "code",
   "execution_count": 22,
   "metadata": {},
   "outputs": [
    {
     "name": "stdout",
     "output_type": "stream",
     "text": [
      "male               0.088374\n",
      "age                0.225408\n",
      "education         -0.054248\n",
      "currentSmoker      0.019448\n",
      "cigsPerDay         0.057755\n",
      "BPMeds             0.087519\n",
      "prevalentStroke    0.061823\n",
      "prevalentHyp       0.177458\n",
      "diabetes           0.097344\n",
      "totChol            0.082369\n",
      "sysBP              0.216374\n",
      "diaBP              0.145112\n",
      "BMI                0.075300\n",
      "heartRate          0.022907\n",
      "glucose            0.125590\n",
      "TenYearCHD         1.000000\n",
      "Name: TenYearCHD, dtype: float64\n"
     ]
    }
   ],
   "source": [
    "# Finding the correlation between each variable and the ouptput variable 'TenYearCHD'\n",
    "\n",
    "correlation = data.corr()['TenYearCHD']\n",
    "print(correlation)"
   ]
  },
  {
   "cell_type": "markdown",
   "metadata": {},
   "source": [
    "Numerical variables which have only 2 values, analyzing the percentage of 1's and 0's in each of them"
   ]
  },
  {
   "cell_type": "code",
   "execution_count": 23,
   "metadata": {},
   "outputs": [
    {
     "name": "stdout",
     "output_type": "stream",
     "text": [
      "['male', 'education', 'currentSmoker', 'BPMeds', 'prevalentStroke', 'prevalentHyp', 'diabetes', 'TenYearCHD']\n",
      "0    2420\n",
      "1    1820\n",
      "Name: male, dtype: int64\n",
      "male\n",
      "0    0.124380\n",
      "1    0.188462\n",
      "Name: TenYearCHD, dtype: float64\n",
      "1.0    1720\n",
      "2.0    1253\n",
      "3.0     689\n",
      "4.0     473\n",
      "Name: education, dtype: int64\n",
      "education\n",
      "1.0    0.187791\n",
      "2.0    0.117318\n",
      "3.0    0.127721\n",
      "4.0    0.147992\n",
      "Name: TenYearCHD, dtype: float64\n",
      "0    2145\n",
      "1    2095\n",
      "Name: currentSmoker, dtype: int64\n",
      "currentSmoker\n",
      "0    0.144988\n",
      "1    0.158950\n",
      "Name: TenYearCHD, dtype: float64\n",
      "0.0    4063\n",
      "1.0     124\n",
      "Name: BPMeds, dtype: int64\n",
      "BPMeds\n",
      "0.0    0.145705\n",
      "1.0    0.330645\n",
      "Name: TenYearCHD, dtype: float64\n",
      "0    4215\n",
      "1      25\n",
      "Name: prevalentStroke, dtype: int64\n",
      "prevalentStroke\n",
      "0    0.150178\n",
      "1    0.440000\n",
      "Name: TenYearCHD, dtype: float64\n",
      "0    2923\n",
      "1    1317\n",
      "Name: prevalentHyp, dtype: int64\n",
      "prevalentHyp\n",
      "0    0.109134\n",
      "1    0.246773\n",
      "Name: TenYearCHD, dtype: float64\n",
      "0    4131\n",
      "1     109\n",
      "Name: diabetes, dtype: int64\n",
      "diabetes\n",
      "0    0.146212\n",
      "1    0.366972\n",
      "Name: TenYearCHD, dtype: float64\n",
      "0    3596\n",
      "1     644\n",
      "Name: TenYearCHD, dtype: int64\n",
      "TenYearCHD\n",
      "0    0.0\n",
      "1    1.0\n",
      "Name: TenYearCHD, dtype: float64\n"
     ]
    }
   ],
   "source": [
    "# Print the unique values of each variable\n",
    "category = []\n",
    "\n",
    "for i in data.columns:\n",
    "    #print(i, data[i].unique())\n",
    "    if(len(data[i].unique()) < 10):\n",
    "        category += [i]\n",
    "        \n",
    "print(category)\n",
    "\n",
    "\n",
    "# For each feature in category print he value counts of each category and the percentage of 1s in the TenYearCHD column\n",
    "for i in category:\n",
    "    print(data[i].value_counts())\n",
    "    print(data.groupby(i)['TenYearCHD'].mean())"
   ]
  },
  {
   "cell_type": "markdown",
   "metadata": {},
   "source": [
    "Finding correlation between the target and the features "
   ]
  },
  {
   "cell_type": "code",
   "execution_count": 24,
   "metadata": {},
   "outputs": [
    {
     "name": "stdout",
     "output_type": "stream",
     "text": [
      "\n",
      "Correlation with TenYearCHD for original features:\n",
      "male               0.091688\n",
      "age                0.233983\n",
      "education         -0.063279\n",
      "currentSmoker      0.019165\n",
      "cigsPerDay         0.052014\n",
      "BPMeds             0.089152\n",
      "prevalentStroke    0.048366\n",
      "prevalentHyp       0.181387\n",
      "diabetes           0.093431\n",
      "totChol            0.091338\n",
      "sysBP              0.222821\n",
      "diaBP              0.150124\n",
      "BMI                0.082055\n",
      "heartRate          0.020514\n",
      "glucose            0.121990\n",
      "TenYearCHD         1.000000\n",
      "Name: TenYearCHD, dtype: float64\n"
     ]
    }
   ],
   "source": [
    "# Drop NaN values\n",
    "data = data.dropna()\n",
    "\n",
    "# Compute and print correlation with target variable for original features\n",
    "print(\"\\nCorrelation with TenYearCHD for original features:\")\n",
    "print(data.corr()['TenYearCHD'])"
   ]
  },
  {
   "cell_type": "markdown",
   "metadata": {},
   "source": [
    "Calculating the polynomial features and also finding their correlation to see if any important features are created"
   ]
  },
  {
   "cell_type": "code",
   "execution_count": 25,
   "metadata": {},
   "outputs": [
    {
     "name": "stderr",
     "output_type": "stream",
     "text": [
      "c:\\Users\\USER\\anaconda3\\envs\\env\\lib\\site-packages\\sklearn\\utils\\deprecation.py:87: FutureWarning: Function get_feature_names is deprecated; get_feature_names is deprecated in 1.0 and will be removed in 1.2. Please use get_feature_names_out instead.\n",
      "  warnings.warn(msg, category=FutureWarning)\n"
     ]
    },
    {
     "name": "stdout",
     "output_type": "stream",
     "text": [
      "\n",
      "Correlation with TenYearCHD for all features:\n",
      "education       -0.063279\n",
      "age totChol     -0.035763\n",
      "totChol^2       -0.033075\n",
      "totChol         -0.032990\n",
      "totChol diaBP   -0.031244\n",
      "                   ...   \n",
      "diaBP            0.150124\n",
      "prevalentHyp     0.181387\n",
      "sysBP            0.222821\n",
      "age              0.233983\n",
      "TenYearCHD       1.000000\n",
      "Name: TenYearCHD, Length: 151, dtype: float64\n",
      "TenYearCHD      1.000000\n",
      "age             0.233983\n",
      "sysBP           0.222821\n",
      "prevalentHyp    0.181387\n",
      "diaBP           0.150124\n",
      "glucose         0.121990\n",
      "diabetes        0.093431\n",
      "male            0.091688\n",
      "totChol         0.091338\n",
      "BPMeds          0.089152\n",
      "Name: TenYearCHD, dtype: float64\n"
     ]
    }
   ],
   "source": [
    "# Create df by dropping the output variable\n",
    "df = data.drop('TenYearCHD', axis=1)\n",
    "\n",
    "# Create the polynomial features\n",
    "poly = PolynomialFeatures(degree=2, include_bias=False)\n",
    "poly_features = poly.fit_transform(df)\n",
    "\n",
    "# Get feature names\n",
    "feature_names = poly.get_feature_names(df.columns)\n",
    "\n",
    "# Create a dataframe from the polynomial features\n",
    "df_poly = pd.DataFrame(poly_features, columns=feature_names)\n",
    "\n",
    "# Add the output variable to the dataframe\n",
    "df_poly['TenYearCHD'] = data['TenYearCHD']\n",
    "\n",
    "# Combine original and polynomial features\n",
    "df_combined = pd.concat([df, df_poly], axis=1)\n",
    "df_combined['TenYearCHD'] = data['TenYearCHD']\n",
    "\n",
    "# Compute correlations for both original and polynomial features\n",
    "correlation_combined = df_combined.corr()['TenYearCHD']\n",
    "\n",
    "print(\"\\nCorrelation with TenYearCHD for all features:\")\n",
    "print(correlation_combined.sort_values(ascending=True))\n",
    "\n",
    "#  Print the top 10 features with the highest correlation with the output variable\n",
    "print(correlation_combined.sort_values(ascending=False).head(10))"
   ]
  },
  {
   "cell_type": "markdown",
   "metadata": {},
   "source": [
    "### Training Model"
   ]
  },
  {
   "cell_type": "markdown",
   "metadata": {},
   "source": [
    "Since no polynomial features with high correlation value were found, we will stick with the orignal features to train the logistic regression model"
   ]
  },
  {
   "cell_type": "code",
   "execution_count": 26,
   "metadata": {},
   "outputs": [],
   "source": [
    "# Train model with all the features to predict the TenYearCHD from the original dataset\n",
    "X = data.drop('TenYearCHD', axis=1)\n",
    "y = data['TenYearCHD']\n",
    "\n",
    "# Split the data into training and testing sets\n",
    "X_train, X_test, y_train, y_test = train_test_split(X, y, test_size=0.3, random_state=42)"
   ]
  },
  {
   "cell_type": "code",
   "execution_count": 27,
   "metadata": {},
   "outputs": [],
   "source": [
    "\n",
    "\n",
    "# Assuming 'data' is your DataFrame\n",
    "# If not, uncomment and modify the following line:\n",
    "# data = pd.read_csv('your_data_file.csv')\n",
    "\n",
    "# Prepare the data\n",
    "X = data.drop('TenYearCHD', axis=1)\n",
    "y = data['TenYearCHD']\n",
    "\n",
    "# Split the data\n",
    "X_train, X_test, y_train, y_test = train_test_split(X, y, test_size=0.3, random_state=42)"
   ]
  },
  {
   "cell_type": "code",
   "execution_count": 28,
   "metadata": {},
   "outputs": [
    {
     "name": "stderr",
     "output_type": "stream",
     "text": [
      "C:\\Users\\USER\\AppData\\Local\\Temp\\ipykernel_3920\\137939665.py:9: RuntimeWarning: overflow encountered in exp\n",
      "  return 1 / (1 + np.exp(-z))\n"
     ]
    },
    {
     "name": "stdout",
     "output_type": "stream",
     "text": [
      "Accuracy: 0.8397085610200364\n",
      "Confusion matrix:\n",
      "[[922   0]\n",
      " [176   0]]\n",
      "Classification report:\n",
      "              precision    recall  f1-score   support\n",
      "\n",
      "           0       0.84      1.00      0.91       922\n",
      "           1       0.00      0.00      0.00       176\n",
      "\n",
      "    accuracy                           0.84      1098\n",
      "   macro avg       0.42      0.50      0.46      1098\n",
      "weighted avg       0.71      0.84      0.77      1098\n",
      "\n"
     ]
    },
    {
     "name": "stderr",
     "output_type": "stream",
     "text": [
      "c:\\Users\\USER\\anaconda3\\envs\\env\\lib\\site-packages\\sklearn\\metrics\\_classification.py:1318: UndefinedMetricWarning: Precision and F-score are ill-defined and being set to 0.0 in labels with no predicted samples. Use `zero_division` parameter to control this behavior.\n",
      "  _warn_prf(average, modifier, msg_start, len(result))\n",
      "c:\\Users\\USER\\anaconda3\\envs\\env\\lib\\site-packages\\sklearn\\metrics\\_classification.py:1318: UndefinedMetricWarning: Precision and F-score are ill-defined and being set to 0.0 in labels with no predicted samples. Use `zero_division` parameter to control this behavior.\n",
      "  _warn_prf(average, modifier, msg_start, len(result))\n",
      "c:\\Users\\USER\\anaconda3\\envs\\env\\lib\\site-packages\\sklearn\\metrics\\_classification.py:1318: UndefinedMetricWarning: Precision and F-score are ill-defined and being set to 0.0 in labels with no predicted samples. Use `zero_division` parameter to control this behavior.\n",
      "  _warn_prf(average, modifier, msg_start, len(result))\n"
     ]
    }
   ],
   "source": [
    "class SimpleLogisticRegression:\n",
    "    def __init__(self, learning_rate=0.01, num_iterations=1000):\n",
    "        self.learning_rate = learning_rate\n",
    "        self.num_iterations = num_iterations\n",
    "        self.weights = None\n",
    "        self.bias = None\n",
    "    \n",
    "    def sigmoid(self, z):\n",
    "        return 1 / (1 + np.exp(-z))\n",
    "    \n",
    "    def fit(self, X, y):\n",
    "        n_samples, n_features = X.shape\n",
    "        self.weights = np.zeros(n_features)\n",
    "        self.bias = 0\n",
    "        \n",
    "        for _ in range(self.num_iterations):\n",
    "            model = np.dot(X, self.weights) + self.bias\n",
    "            predictions = self.sigmoid(model)\n",
    "            \n",
    "            dw = (1 / n_samples) * np.dot(X.T, (predictions - y))\n",
    "            db = (1 / n_samples) * np.sum(predictions - y)\n",
    "            \n",
    "            self.weights -= self.learning_rate * dw\n",
    "            self.bias -= self.learning_rate * db\n",
    "    \n",
    "    def predict_proba(self, X):\n",
    "        model = np.dot(X, self.weights) + self.bias\n",
    "        return self.sigmoid(model)\n",
    "    \n",
    "    def predict(self, X, threshold=0.5):\n",
    "        return (self.predict_proba(X) > threshold).astype(int)\n",
    "\n",
    "# Train the model\n",
    "model = SimpleLogisticRegression()\n",
    "model.fit(X_train, y_train)\n",
    "\n",
    "# Make predictions\n",
    "y_pred = model.predict(X_test)\n",
    "\n",
    "# Compute the accuracy\n",
    "accuracy = accuracy_score(y_test, y_pred)\n",
    "print(\"Accuracy:\", accuracy)\n",
    "\n",
    "# Print the confusion matrix\n",
    "print(\"Confusion matrix:\")\n",
    "print(confusion_matrix(y_test, y_pred))\n",
    "\n",
    "# Print the classification report\n",
    "print(\"Classification report:\")\n",
    "print(classification_report(y_test, y_pred))"
   ]
  },
  {
   "cell_type": "markdown",
   "metadata": {},
   "source": [
    "## Training Accurate model able to predict heart disease"
   ]
  },
  {
   "cell_type": "markdown",
   "metadata": {},
   "source": [
    "##### Note: From the confusion matrix and the precision and recall score of 1 we can see that the number of true positives predicted is 0"
   ]
  },
  {
   "cell_type": "markdown",
   "metadata": {},
   "source": [
    "This is because the data is highly skewed towards predicting 0's\\\n",
    "\\\n",
    "We will try to reduce this by using random Undersampling to make sure that there are equal number of 1's and 0's and Using UnderSampler because not creating any artifical data"
   ]
  },
  {
   "cell_type": "code",
   "execution_count": 29,
   "metadata": {},
   "outputs": [
    {
     "name": "stderr",
     "output_type": "stream",
     "text": [
      "C:\\Users\\USER\\AppData\\Local\\Temp\\ipykernel_3920\\1615366367.py:13: RuntimeWarning: overflow encountered in exp\n",
      "  return 1 / (1 + np.exp(-z))\n"
     ]
    },
    {
     "name": "stdout",
     "output_type": "stream",
     "text": [
      "Accuracy: 0.8278688524590164\n",
      "Confusion matrix:\n",
      "[[890  32]\n",
      " [157  19]]\n",
      "Classification report:\n",
      "              precision    recall  f1-score   support\n",
      "\n",
      "           0       0.85      0.97      0.90       922\n",
      "           1       0.37      0.11      0.17       176\n",
      "\n",
      "    accuracy                           0.83      1098\n",
      "   macro avg       0.61      0.54      0.54      1098\n",
      "weighted avg       0.77      0.83      0.79      1098\n",
      "\n"
     ]
    }
   ],
   "source": [
    "import numpy as np\n",
    "from sklearn.metrics import accuracy_score, confusion_matrix, classification_report\n",
    "from imblearn.under_sampling import RandomUnderSampler\n",
    "\n",
    "class SimpleLogisticRegression:\n",
    "    def __init__(self, learning_rate=0.01, num_iterations=1000):\n",
    "        self.learning_rate = learning_rate\n",
    "        self.num_iterations = num_iterations\n",
    "        self.weights = None\n",
    "        self.bias = None\n",
    "   \n",
    "    def sigmoid(self, z):\n",
    "        return 1 / (1 + np.exp(-z))\n",
    "   \n",
    "    def fit(self, X, y):\n",
    "        n_samples, n_features = X.shape\n",
    "        self.weights = np.zeros(n_features)\n",
    "        self.bias = 0\n",
    "       \n",
    "        for _ in range(self.num_iterations):\n",
    "            model = np.dot(X, self.weights) + self.bias\n",
    "            predictions = self.sigmoid(model)\n",
    "           \n",
    "            dw = (1 / n_samples) * np.dot(X.T, (predictions - y))\n",
    "            db = (1 / n_samples) * np.sum(predictions - y)\n",
    "           \n",
    "            self.weights -= self.learning_rate * dw\n",
    "            self.bias -= self.learning_rate * db\n",
    "   \n",
    "    def predict_proba(self, X):\n",
    "        model = np.dot(X, self.weights) + self.bias\n",
    "        return self.sigmoid(model)\n",
    "   \n",
    "    def predict(self, X, threshold=0.5):\n",
    "        return (self.predict_proba(X) > threshold).astype(int)\n",
    "\n",
    "\n",
    "# Apply random undersampling to the training data\n",
    "undersampler = RandomUnderSampler(random_state=42)\n",
    "X_train_balanced, y_train_balanced = undersampler.fit_resample(X_train, y_train)\n",
    "\n",
    "# Train the model on balanced data\n",
    "model = SimpleLogisticRegression(learning_rate=0.01, num_iterations=1000)\n",
    "model.fit(X_train_balanced, y_train_balanced)\n",
    "\n",
    "# Make predictions\n",
    "y_pred = model.predict(X_test)\n",
    "\n",
    "# Compute the accuracy\n",
    "accuracy = accuracy_score(y_test, y_pred)\n",
    "print(\"Accuracy:\", accuracy)\n",
    "\n",
    "# Print the confusion matrix\n",
    "print(\"Confusion matrix:\")\n",
    "print(confusion_matrix(y_test, y_pred))\n",
    "\n",
    "# Print the classification report\n",
    "print(\"Classification report:\")\n",
    "print(classification_report(y_test, y_pred))"
   ]
  },
  {
   "cell_type": "markdown",
   "metadata": {},
   "source": [
    "#### Now we can see that that the confusion matrix is more appropirate and actually abe to predict the cases which have 'TenyearCHD'\n",
    "\n",
    "This slight decrease in accuracy is also justified, as now the model is not randomly prediciting all values as 0, which we definelty don't want"
   ]
  }
 ],
 "metadata": {
  "kernelspec": {
   "display_name": "env",
   "language": "python",
   "name": "python3"
  },
  "language_info": {
   "codemirror_mode": {
    "name": "ipython",
    "version": 3
   },
   "file_extension": ".py",
   "mimetype": "text/x-python",
   "name": "python",
   "nbconvert_exporter": "python",
   "pygments_lexer": "ipython3",
   "version": "3.9.13"
  }
 },
 "nbformat": 4,
 "nbformat_minor": 2
}
